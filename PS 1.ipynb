{
 "cells": [
  {
   "cell_type": "code",
   "execution_count": 25,
   "id": "b6f0f1f0-d527-4cb1-95a8-ecba28391a2c",
   "metadata": {},
   "outputs": [],
   "source": [
    "#importing files\n",
    "import pandas as pd\n",
    "import numpy as np"
   ]
  },
  {
   "cell_type": "code",
   "execution_count": 26,
   "id": "00c5edbb-66c2-4eb4-a7a1-7d7ba47bd107",
   "metadata": {},
   "outputs": [],
   "source": [
    "#import data\n",
    "data_df=pd.read_csv('/Users/Atluri/Downloads/powerconsumption.csv.zip')"
   ]
  },
  {
   "cell_type": "code",
   "execution_count": 27,
   "id": "51b8a77b-5a89-435c-b354-70256b725230",
   "metadata": {},
   "outputs": [
    {
     "data": {
      "text/html": [
       "<div>\n",
       "<style scoped>\n",
       "    .dataframe tbody tr th:only-of-type {\n",
       "        vertical-align: middle;\n",
       "    }\n",
       "\n",
       "    .dataframe tbody tr th {\n",
       "        vertical-align: top;\n",
       "    }\n",
       "\n",
       "    .dataframe thead th {\n",
       "        text-align: right;\n",
       "    }\n",
       "</style>\n",
       "<table border=\"1\" class=\"dataframe\">\n",
       "  <thead>\n",
       "    <tr style=\"text-align: right;\">\n",
       "      <th></th>\n",
       "      <th>Datetime</th>\n",
       "      <th>Temperature</th>\n",
       "      <th>Humidity</th>\n",
       "      <th>WindSpeed</th>\n",
       "      <th>GeneralDiffuseFlows</th>\n",
       "      <th>DiffuseFlows</th>\n",
       "      <th>PowerConsumption_Zone1</th>\n",
       "      <th>PowerConsumption_Zone2</th>\n",
       "      <th>PowerConsumption_Zone3</th>\n",
       "    </tr>\n",
       "  </thead>\n",
       "  <tbody>\n",
       "    <tr>\n",
       "      <th>0</th>\n",
       "      <td>1/1/2017 0:00</td>\n",
       "      <td>6.559</td>\n",
       "      <td>73.8</td>\n",
       "      <td>0.083</td>\n",
       "      <td>0.051</td>\n",
       "      <td>0.119</td>\n",
       "      <td>34055.69620</td>\n",
       "      <td>16128.87538</td>\n",
       "      <td>20240.96386</td>\n",
       "    </tr>\n",
       "    <tr>\n",
       "      <th>1</th>\n",
       "      <td>1/1/2017 0:10</td>\n",
       "      <td>6.414</td>\n",
       "      <td>74.5</td>\n",
       "      <td>0.083</td>\n",
       "      <td>0.070</td>\n",
       "      <td>0.085</td>\n",
       "      <td>29814.68354</td>\n",
       "      <td>19375.07599</td>\n",
       "      <td>20131.08434</td>\n",
       "    </tr>\n",
       "    <tr>\n",
       "      <th>2</th>\n",
       "      <td>1/1/2017 0:20</td>\n",
       "      <td>6.313</td>\n",
       "      <td>74.5</td>\n",
       "      <td>0.080</td>\n",
       "      <td>0.062</td>\n",
       "      <td>0.100</td>\n",
       "      <td>29128.10127</td>\n",
       "      <td>19006.68693</td>\n",
       "      <td>19668.43373</td>\n",
       "    </tr>\n",
       "    <tr>\n",
       "      <th>3</th>\n",
       "      <td>1/1/2017 0:30</td>\n",
       "      <td>6.121</td>\n",
       "      <td>75.0</td>\n",
       "      <td>0.083</td>\n",
       "      <td>0.091</td>\n",
       "      <td>0.096</td>\n",
       "      <td>28228.86076</td>\n",
       "      <td>18361.09422</td>\n",
       "      <td>18899.27711</td>\n",
       "    </tr>\n",
       "    <tr>\n",
       "      <th>4</th>\n",
       "      <td>1/1/2017 0:40</td>\n",
       "      <td>5.921</td>\n",
       "      <td>75.7</td>\n",
       "      <td>0.081</td>\n",
       "      <td>0.048</td>\n",
       "      <td>0.085</td>\n",
       "      <td>27335.69620</td>\n",
       "      <td>17872.34043</td>\n",
       "      <td>18442.40964</td>\n",
       "    </tr>\n",
       "  </tbody>\n",
       "</table>\n",
       "</div>"
      ],
      "text/plain": [
       "        Datetime  Temperature  Humidity  WindSpeed  GeneralDiffuseFlows  \\\n",
       "0  1/1/2017 0:00        6.559      73.8      0.083                0.051   \n",
       "1  1/1/2017 0:10        6.414      74.5      0.083                0.070   \n",
       "2  1/1/2017 0:20        6.313      74.5      0.080                0.062   \n",
       "3  1/1/2017 0:30        6.121      75.0      0.083                0.091   \n",
       "4  1/1/2017 0:40        5.921      75.7      0.081                0.048   \n",
       "\n",
       "   DiffuseFlows  PowerConsumption_Zone1  PowerConsumption_Zone2  \\\n",
       "0         0.119             34055.69620             16128.87538   \n",
       "1         0.085             29814.68354             19375.07599   \n",
       "2         0.100             29128.10127             19006.68693   \n",
       "3         0.096             28228.86076             18361.09422   \n",
       "4         0.085             27335.69620             17872.34043   \n",
       "\n",
       "   PowerConsumption_Zone3  \n",
       "0             20240.96386  \n",
       "1             20131.08434  \n",
       "2             19668.43373  \n",
       "3             18899.27711  \n",
       "4             18442.40964  "
      ]
     },
     "execution_count": 27,
     "metadata": {},
     "output_type": "execute_result"
    }
   ],
   "source": [
    "data_df.head()"
   ]
  },
  {
   "cell_type": "code",
   "execution_count": 28,
   "id": "a8f2014f-693e-411e-aa20-2e7cbfb3de7c",
   "metadata": {},
   "outputs": [],
   "source": [
    "data_df['Datetime'] = pd.to_datetime(data_df['Datetime'])  \n",
    "data_df['Year'] = data_df['Datetime'].dt.year\n",
    "data_df['Month'] = data_df['Datetime'].dt.month\n",
    "data_df['Day'] = data_df['Datetime'].dt.day\n",
    "data_df['Hour'] = data_df['Datetime'].dt.hour\n",
    "data_df['Minute'] = data_df['Datetime'].dt.minute\n",
    "data_df = data_df.drop(['Datetime'], axis=1)"
   ]
  },
  {
   "cell_type": "code",
   "execution_count": 29,
   "id": "0cfb633b-f83b-415f-82f7-e8e1d12f1fc8",
   "metadata": {},
   "outputs": [
    {
     "data": {
      "text/html": [
       "<div>\n",
       "<style scoped>\n",
       "    .dataframe tbody tr th:only-of-type {\n",
       "        vertical-align: middle;\n",
       "    }\n",
       "\n",
       "    .dataframe tbody tr th {\n",
       "        vertical-align: top;\n",
       "    }\n",
       "\n",
       "    .dataframe thead th {\n",
       "        text-align: right;\n",
       "    }\n",
       "</style>\n",
       "<table border=\"1\" class=\"dataframe\">\n",
       "  <thead>\n",
       "    <tr style=\"text-align: right;\">\n",
       "      <th></th>\n",
       "      <th>Temperature</th>\n",
       "      <th>Humidity</th>\n",
       "      <th>WindSpeed</th>\n",
       "      <th>GeneralDiffuseFlows</th>\n",
       "      <th>DiffuseFlows</th>\n",
       "      <th>PowerConsumption_Zone1</th>\n",
       "      <th>PowerConsumption_Zone2</th>\n",
       "      <th>PowerConsumption_Zone3</th>\n",
       "      <th>Year</th>\n",
       "      <th>Month</th>\n",
       "      <th>Day</th>\n",
       "      <th>Hour</th>\n",
       "      <th>Minute</th>\n",
       "    </tr>\n",
       "  </thead>\n",
       "  <tbody>\n",
       "    <tr>\n",
       "      <th>0</th>\n",
       "      <td>6.559</td>\n",
       "      <td>73.8</td>\n",
       "      <td>0.083</td>\n",
       "      <td>0.051</td>\n",
       "      <td>0.119</td>\n",
       "      <td>34055.69620</td>\n",
       "      <td>16128.87538</td>\n",
       "      <td>20240.96386</td>\n",
       "      <td>2017</td>\n",
       "      <td>1</td>\n",
       "      <td>1</td>\n",
       "      <td>0</td>\n",
       "      <td>0</td>\n",
       "    </tr>\n",
       "    <tr>\n",
       "      <th>1</th>\n",
       "      <td>6.414</td>\n",
       "      <td>74.5</td>\n",
       "      <td>0.083</td>\n",
       "      <td>0.070</td>\n",
       "      <td>0.085</td>\n",
       "      <td>29814.68354</td>\n",
       "      <td>19375.07599</td>\n",
       "      <td>20131.08434</td>\n",
       "      <td>2017</td>\n",
       "      <td>1</td>\n",
       "      <td>1</td>\n",
       "      <td>0</td>\n",
       "      <td>10</td>\n",
       "    </tr>\n",
       "    <tr>\n",
       "      <th>2</th>\n",
       "      <td>6.313</td>\n",
       "      <td>74.5</td>\n",
       "      <td>0.080</td>\n",
       "      <td>0.062</td>\n",
       "      <td>0.100</td>\n",
       "      <td>29128.10127</td>\n",
       "      <td>19006.68693</td>\n",
       "      <td>19668.43373</td>\n",
       "      <td>2017</td>\n",
       "      <td>1</td>\n",
       "      <td>1</td>\n",
       "      <td>0</td>\n",
       "      <td>20</td>\n",
       "    </tr>\n",
       "    <tr>\n",
       "      <th>3</th>\n",
       "      <td>6.121</td>\n",
       "      <td>75.0</td>\n",
       "      <td>0.083</td>\n",
       "      <td>0.091</td>\n",
       "      <td>0.096</td>\n",
       "      <td>28228.86076</td>\n",
       "      <td>18361.09422</td>\n",
       "      <td>18899.27711</td>\n",
       "      <td>2017</td>\n",
       "      <td>1</td>\n",
       "      <td>1</td>\n",
       "      <td>0</td>\n",
       "      <td>30</td>\n",
       "    </tr>\n",
       "    <tr>\n",
       "      <th>4</th>\n",
       "      <td>5.921</td>\n",
       "      <td>75.7</td>\n",
       "      <td>0.081</td>\n",
       "      <td>0.048</td>\n",
       "      <td>0.085</td>\n",
       "      <td>27335.69620</td>\n",
       "      <td>17872.34043</td>\n",
       "      <td>18442.40964</td>\n",
       "      <td>2017</td>\n",
       "      <td>1</td>\n",
       "      <td>1</td>\n",
       "      <td>0</td>\n",
       "      <td>40</td>\n",
       "    </tr>\n",
       "  </tbody>\n",
       "</table>\n",
       "</div>"
      ],
      "text/plain": [
       "   Temperature  Humidity  WindSpeed  GeneralDiffuseFlows  DiffuseFlows  \\\n",
       "0        6.559      73.8      0.083                0.051         0.119   \n",
       "1        6.414      74.5      0.083                0.070         0.085   \n",
       "2        6.313      74.5      0.080                0.062         0.100   \n",
       "3        6.121      75.0      0.083                0.091         0.096   \n",
       "4        5.921      75.7      0.081                0.048         0.085   \n",
       "\n",
       "   PowerConsumption_Zone1  PowerConsumption_Zone2  PowerConsumption_Zone3  \\\n",
       "0             34055.69620             16128.87538             20240.96386   \n",
       "1             29814.68354             19375.07599             20131.08434   \n",
       "2             29128.10127             19006.68693             19668.43373   \n",
       "3             28228.86076             18361.09422             18899.27711   \n",
       "4             27335.69620             17872.34043             18442.40964   \n",
       "\n",
       "   Year  Month  Day  Hour  Minute  \n",
       "0  2017      1    1     0       0  \n",
       "1  2017      1    1     0      10  \n",
       "2  2017      1    1     0      20  \n",
       "3  2017      1    1     0      30  \n",
       "4  2017      1    1     0      40  "
      ]
     },
     "execution_count": 29,
     "metadata": {},
     "output_type": "execute_result"
    }
   ],
   "source": [
    "data_df.head()"
   ]
  },
  {
   "cell_type": "code",
   "execution_count": 30,
   "id": "18071f80-2424-4a1f-af6d-bdb847a26423",
   "metadata": {},
   "outputs": [],
   "source": [
    "x = data_df.drop(['PowerConsumption_Zone1', 'PowerConsumption_Zone2', 'PowerConsumption_Zone3'], axis=1).values\n",
    "y=data_df[['PowerConsumption_Zone1', 'PowerConsumption_Zone2', 'PowerConsumption_Zone3']].values"
   ]
  },
  {
   "cell_type": "code",
   "execution_count": 31,
   "id": "2037d82d-b1ca-4656-a710-388db4d6272f",
   "metadata": {},
   "outputs": [
    {
     "name": "stdout",
     "output_type": "stream",
     "text": [
      "[[ 6.559 73.8    0.083 ...  1.     0.     0.   ]\n",
      " [ 6.414 74.5    0.083 ...  1.     0.    10.   ]\n",
      " [ 6.313 74.5    0.08  ...  1.     0.    20.   ]\n",
      " ...\n",
      " [ 6.9   72.8    0.086 ... 30.    23.    30.   ]\n",
      " [ 6.758 73.     0.08  ... 30.    23.    40.   ]\n",
      " [ 6.58  74.1    0.081 ... 30.    23.    50.   ]]\n"
     ]
    }
   ],
   "source": [
    "print(x)"
   ]
  },
  {
   "cell_type": "code",
   "execution_count": 32,
   "id": "c7fbd7f7-458f-454e-ba7b-c0a27e8d4001",
   "metadata": {},
   "outputs": [
    {
     "name": "stdout",
     "output_type": "stream",
     "text": [
      "[[34055.6962  16128.87538 20240.96386]\n",
      " [29814.68354 19375.07599 20131.08434]\n",
      " [29128.10127 19006.68693 19668.43373]\n",
      " ...\n",
      " [29590.87452 25277.69254 13806.48259]\n",
      " [28958.1749  24692.23688 13512.60504]\n",
      " [28349.80989 24055.23167 13345.4982 ]]\n"
     ]
    }
   ],
   "source": [
    "print(y)"
   ]
  },
  {
   "cell_type": "code",
   "execution_count": 33,
   "id": "77ef726b-5e67-436c-872f-1ac2e254cbbd",
   "metadata": {},
   "outputs": [],
   "source": [
    "from sklearn.model_selection import train_test_split\n",
    "x_train,x_test,y_train,y_test=train_test_split(x,y,test_size=0.4,random_state=0)"
   ]
  },
  {
   "cell_type": "code",
   "execution_count": 57,
   "id": "7e27e591-4948-4792-b089-316e8ff4d601",
   "metadata": {},
   "outputs": [],
   "source": [
    "# LASSO"
   ]
  },
  {
   "cell_type": "code",
   "execution_count": 34,
   "id": "83e1780a-2488-4123-9f5d-7c6412115f32",
   "metadata": {},
   "outputs": [],
   "source": [
    "from sklearn.linear_model import Lasso\n",
    "lasso = Lasso(alpha=0.001)\n",
    "lasso.fit(x_train, y_train)\n",
    "y_pred1 = lasso.predict(x_test)"
   ]
  },
  {
   "cell_type": "code",
   "execution_count": 58,
   "id": "2301c0b3-2ef0-4309-ab00-bc256a78a442",
   "metadata": {},
   "outputs": [],
   "source": [
    "# ELASTICNET"
   ]
  },
  {
   "cell_type": "code",
   "execution_count": 35,
   "id": "f3c96c66-e058-4997-9c07-ebf5c886cc42",
   "metadata": {},
   "outputs": [],
   "source": [
    "from sklearn.linear_model import ElasticNet\n",
    "from sklearn.preprocessing import StandardScaler\n",
    "s=StandardScaler()\n",
    "x_scaled = s.fit_transform(x)\n",
    "elastic_net = ElasticNet(alpha=0.1, l1_ratio=0.5) \n",
    "elastic_net.fit(x_train, y_train)\n",
    "y_pred2 = elastic_net.predict(x_test)"
   ]
  },
  {
   "cell_type": "code",
   "execution_count": 60,
   "id": "9d552aea-ac75-46c6-a6c6-df5ab4e2d9a1",
   "metadata": {},
   "outputs": [],
   "source": [
    "# ENSEMBLES\n",
    "# BAGGING"
   ]
  },
  {
   "cell_type": "code",
   "execution_count": 36,
   "id": "ddde6a24-51c9-4b45-96df-16aa6cda2f09",
   "metadata": {},
   "outputs": [],
   "source": [
    "from sklearn.ensemble import RandomForestRegressor\n",
    "rf = RandomForestRegressor(n_estimators=100, random_state=0)\n",
    "rf.fit(x_train, y_train)\n",
    "y_pred3 = rf.predict(x_test)"
   ]
  },
  {
   "cell_type": "code",
   "execution_count": 59,
   "id": "2a17a8d1-bfb9-4bad-8fba-d5d700b3d5fe",
   "metadata": {},
   "outputs": [],
   "source": [
    "# BOOSTING"
   ]
  },
  {
   "cell_type": "code",
   "execution_count": 37,
   "id": "cb25247b-8b4f-4c9f-ba44-47761e1b9c39",
   "metadata": {},
   "outputs": [],
   "source": [
    "import xgboost as xgb\n",
    "from xgboost import XGBRegressor\n",
    "model = XGBRegressor(n_estimators=1000, max_depth=6, learning_rate=0.1, objective='reg:squarederror', random_state=0)\n",
    "model.fit(x_train, y_train)\n",
    "y_pred4 = model.predict(x_test)"
   ]
  },
  {
   "cell_type": "code",
   "execution_count": 38,
   "id": "2245f7af-7d4d-430f-8221-949bdddcfe96",
   "metadata": {},
   "outputs": [
    {
     "name": "stdout",
     "output_type": "stream",
     "text": [
      "[[27439.3907273  16496.69761564 18205.62810928]\n",
      " [25395.42826778 17750.99864206 14709.64791419]\n",
      " [35199.82680064 23719.61329361 19636.55903689]\n",
      " ...\n",
      " [26073.03012643 15289.0299528  16042.99277043]\n",
      " [30718.45728921 18481.81999792 17317.11967031]\n",
      " [32019.16036867 18704.81140189 18075.68992361]]\n",
      "[[27437.56018316 16502.61286481 18188.9077005 ]\n",
      " [25406.27251595 17751.2503714  14717.68847234]\n",
      " [35204.70646224 23717.51242759 19641.12901681]\n",
      " ...\n",
      " [26070.73392669 15296.21740475 16032.77976537]\n",
      " [30725.02266028 18490.01360957 17310.21757483]\n",
      " [32013.58449939 18710.48352409 18063.25020974]]\n",
      "[[28006.9509924 17455.9958422 21349.3956918]\n",
      " [26330.258206  17503.9170119 13106.9471127]\n",
      " [27567.6530946 15564.1621622 13905.369562 ]\n",
      " ...\n",
      " [25249.8255752 14771.4427249 15571.9384643]\n",
      " [32984.6146188 20346.5882574 15968.5603141]\n",
      " [34658.0451814 22438.0191641 17490.8088617]]\n",
      "[[30439.2   18380.01  23079.16 ]\n",
      " [26771.092 17619.154 13316.007]\n",
      " [27396.006 15661.502 14305.179]\n",
      " ...\n",
      " [25235.666 14601.615 15542.04 ]\n",
      " [33105.645 20393.97  15898.197]\n",
      " [33872.863 21770.023 17793.645]]\n"
     ]
    }
   ],
   "source": [
    "print(y_pred1)\n",
    "print(y_pred2)\n",
    "print(y_pred3)\n",
    "print(y_pred4)"
   ]
  },
  {
   "cell_type": "code",
   "execution_count": 39,
   "id": "f9d6a704-e30f-4451-8732-2122c10aefb2",
   "metadata": {},
   "outputs": [
    {
     "name": "stdout",
     "output_type": "stream",
     "text": [
      "[[20328.06389336 11325.3316984  10938.38384596]]\n",
      "[[20340.00257422 11339.53751219 10939.09094258]]\n",
      "[[31826.5954077 17140.1580548 19514.1455162]]\n",
      "[[32719.11  17533.035 20102.418]]\n"
     ]
    }
   ],
   "source": [
    "las=lasso.predict([[6.559,\t73.8,\t0.083,\t0.051,\t0.119,2017,1,1,0, 0]])\n",
    "en=elastic_net.predict([[6.559,\t73.8,\t0.083,\t0.051,\t0.119,2017,1,1,0, 0]])\n",
    "rf=rf.predict([[6.559,\t73.8,\t0.083,\t0.051,\t0.119,2017,1,1,0, 0]])\n",
    "m=model.predict([[6.559,\t73.8,\t0.083,\t0.051,\t0.119,2017,1,1,0, 0]])\n",
    "print(las)\n",
    "print(en)\n",
    "print(rf)\n",
    "print(m)"
   ]
  },
  {
   "cell_type": "code",
   "execution_count": 40,
   "id": "6b88180f-b383-4c75-8ba5-ae49f0a28c79",
   "metadata": {},
   "outputs": [
    {
     "name": "stdout",
     "output_type": "stream",
     "text": [
      "0.6031045998549744\n",
      "0.6031121710068916\n",
      "0.9846753768375645\n",
      "0.9872344612567713\n"
     ]
    }
   ],
   "source": [
    "from sklearn.metrics import r2_score\n",
    "r2_lasso=r2_score(y_test,y_pred1)\n",
    "print(r2_lasso)\n",
    "r2_elasticnet=r2_score(y_test, y_pred2)\n",
    "print(r2_elasticnet)\n",
    "r2_randomforest = r2_score(y_test, y_pred3)\n",
    "print(r2_randomforest)\n",
    "r2_xgb=r2_score(y_test,y_pred4)\n",
    "print(r2_xgb)"
   ]
  },
  {
   "cell_type": "code",
   "execution_count": 49,
   "id": "5c67aea3-d0db-4660-832a-1b32293c9845",
   "metadata": {},
   "outputs": [
    {
     "name": "stdout",
     "output_type": "stream",
     "text": [
      "0.6097771199160563\n"
     ]
    }
   ],
   "source": [
    "from sklearn.model_selection import cross_val_score\n",
    "scores = cross_val_score(lasso, x_train, y_train, scoring='r2', cv=5)\n",
    "print( scores.mean())\n",
    "# crossvalidation"
   ]
  },
  {
   "cell_type": "code",
   "execution_count": 61,
   "id": "04e7017c-b011-46d8-bc17-6ae98eefb241",
   "metadata": {},
   "outputs": [],
   "source": [
    "# using light gbm for faster and efficient calculation\n",
    "# BUT ONLY 1 OUTPUT"
   ]
  },
  {
   "cell_type": "code",
   "execution_count": 52,
   "id": "2ae58c25-c6fd-4b76-9234-d305dc6c564d",
   "metadata": {},
   "outputs": [
    {
     "name": "stdout",
     "output_type": "stream",
     "text": [
      "[LightGBM] [Info] Auto-choosing col-wise multi-threading, the overhead of testing was 0.001987 seconds.\n",
      "You can set `force_col_wise=true` to remove the overhead.\n",
      "[LightGBM] [Info] Total Bins 1343\n",
      "[LightGBM] [Info] Number of data points in the train set: 31449, number of used features: 9\n",
      "[LightGBM] [Info] Start training from score 32353.483477\n"
     ]
    }
   ],
   "source": [
    "import lightgbm as lgb\n",
    "from sklearn.preprocessing import StandardScaler\n",
    "scaler = StandardScaler()\n",
    "x_train_scaled = scaler.fit_transform(x_train)\n",
    "x_test_scaled = scaler.transform(x_test)\n",
    "train_data = lgb.Dataset(x_train_scaled, label=y_train[:, 0])  #predicting PowerConsumption_Zone1\n",
    "test_data = lgb.Dataset(x_test_scaled, label=y_test[:, 0], reference=train_data)\n",
    "params = {'objective': 'regression','metric': 'rmse','boosting_type': 'gbdt','num_leaves': 31,'learning_rate': 0.05,'feature_fraction': 0.9}\n",
    "num_round = 1000\n",
    "lgbm = lgb.train(params, train_data, num_round, valid_sets=[test_data])\n",
    "# used light gbm as its faster and more efficient "
   ]
  },
  {
   "cell_type": "code",
   "execution_count": 53,
   "id": "eb009d73-0599-43da-998b-b9662f7b6a15",
   "metadata": {},
   "outputs": [
    {
     "name": "stdout",
     "output_type": "stream",
     "text": [
      "0.9812326838488566\n"
     ]
    }
   ],
   "source": [
    "y_pred5 = lgbm.predict(x_test_scaled, num_iteration=model.best_iteration)\n",
    "r2 = r2_score(y_test[:, 0], y_pred5)\n",
    "print(r2)"
   ]
  },
  {
   "cell_type": "code",
   "execution_count": 54,
   "id": "74a6b21a-4cd6-4572-b6dd-2329844e0a58",
   "metadata": {},
   "outputs": [
    {
     "data": {
      "text/plain": [
       "array([37540.25918473])"
      ]
     },
     "execution_count": 54,
     "metadata": {},
     "output_type": "execute_result"
    }
   ],
   "source": [
    "lgbm.predict([[6.559,\t73.8,\t0.083,\t0.051,\t0.119,2017,1,1,0, 0]])\n",
    "# ZONE1"
   ]
  },
  {
   "cell_type": "code",
   "execution_count": 65,
   "id": "e9bbef25-10ca-4cce-897f-9cfb60be9a9c",
   "metadata": {},
   "outputs": [
    {
     "name": "stdout",
     "output_type": "stream",
     "text": [
      "[LightGBM] [Info] Auto-choosing col-wise multi-threading, the overhead of testing was 0.002077 seconds.\n",
      "You can set `force_col_wise=true` to remove the overhead.\n",
      "[LightGBM] [Info] Total Bins 1343\n",
      "[LightGBM] [Info] Number of data points in the train set: 31449, number of used features: 9\n",
      "[LightGBM] [Info] Start training from score 21053.109094\n"
     ]
    }
   ],
   "source": [
    "import lightgbm as lgb\n",
    "from sklearn.preprocessing import StandardScaler\n",
    "scaler = StandardScaler()\n",
    "x_train_scaled = scaler.fit_transform(x_train)\n",
    "x_test_scaled = scaler.transform(x_test)\n",
    "train_data = lgb.Dataset(x_train_scaled, label=y_train[:, 1])  #predicting PowerConsumption_Zone2\n",
    "test_data = lgb.Dataset(x_test_scaled, label=y_test[:, 1], reference=train_data)\n",
    "params = {'objective': 'regression','metric': 'rmse','boosting_type': 'gbdt','num_leaves': 31,'learning_rate': 0.05,'feature_fraction': 0.9}\n",
    "num_round = 1000\n",
    "lgbm = lgb.train(params, train_data, num_round, valid_sets=[test_data])\n",
    "# used light gbm as its faster and more efficient "
   ]
  },
  {
   "cell_type": "code",
   "execution_count": 67,
   "id": "a0a81d8d-a3a1-4c1f-884d-c4ce869c146e",
   "metadata": {},
   "outputs": [
    {
     "name": "stdout",
     "output_type": "stream",
     "text": [
      "0.9778591428478717\n"
     ]
    }
   ],
   "source": [
    "y_pred51 = lgbm.predict(x_test_scaled, num_iteration=model.best_iteration)\n",
    "r2 = r2_score(y_test[:, 1], y_pred51)\n",
    "print(r2)"
   ]
  },
  {
   "cell_type": "code",
   "execution_count": 68,
   "id": "52287311-c819-4d75-b6a6-5e55131a17a2",
   "metadata": {},
   "outputs": [
    {
     "data": {
      "text/plain": [
       "array([24078.21326055])"
      ]
     },
     "execution_count": 68,
     "metadata": {},
     "output_type": "execute_result"
    }
   ],
   "source": [
    "lgbm.predict([[6.559,\t73.8,\t0.083,\t0.051,\t0.119,2017,1,1,0, 0]])\n",
    "# ZONE2"
   ]
  },
  {
   "cell_type": "code",
   "execution_count": 70,
   "id": "936d8c6e-c471-4893-94be-1d96f536aa0d",
   "metadata": {},
   "outputs": [
    {
     "name": "stdout",
     "output_type": "stream",
     "text": [
      "[LightGBM] [Info] Auto-choosing col-wise multi-threading, the overhead of testing was 0.002170 seconds.\n",
      "You can set `force_col_wise=true` to remove the overhead.\n",
      "[LightGBM] [Info] Total Bins 1343\n",
      "[LightGBM] [Info] Number of data points in the train set: 31449, number of used features: 9\n",
      "[LightGBM] [Info] Start training from score 17841.136461\n"
     ]
    }
   ],
   "source": [
    "import lightgbm as lgb\n",
    "from sklearn.preprocessing import StandardScaler\n",
    "scaler = StandardScaler()\n",
    "x_train_scaled = scaler.fit_transform(x_train)\n",
    "x_test_scaled = scaler.transform(x_test)\n",
    "train_data = lgb.Dataset(x_train_scaled, label=y_train[:, 2])  #predicting PowerConsumption_Zone2\n",
    "test_data = lgb.Dataset(x_test_scaled, label=y_test[:, 2], reference=train_data)\n",
    "params = {'objective': 'regression','metric': 'rmse','boosting_type': 'gbdt','num_leaves': 31,'learning_rate': 0.05,'feature_fraction': 0.9}\n",
    "num_round = 1000\n",
    "lgbm = lgb.train(params, train_data, num_round, valid_sets=[test_data])\n",
    "# used light gbm as its faster and more efficient "
   ]
  },
  {
   "cell_type": "code",
   "execution_count": 71,
   "id": "ae0380b3-fa49-494e-8d1b-082377a7d152",
   "metadata": {},
   "outputs": [
    {
     "name": "stdout",
     "output_type": "stream",
     "text": [
      "0.9925209481879327\n"
     ]
    }
   ],
   "source": [
    "y_pred51 = lgbm.predict(x_test_scaled, num_iteration=model.best_iteration)\n",
    "r2 = r2_score(y_test[:, 2], y_pred51)\n",
    "print(r2)"
   ]
  },
  {
   "cell_type": "code",
   "execution_count": 76,
   "id": "989f85c1-f816-4d22-a5a8-2c6d26e82a90",
   "metadata": {},
   "outputs": [
    {
     "data": {
      "text/plain": [
       "array([14454.84620777])"
      ]
     },
     "execution_count": 76,
     "metadata": {},
     "output_type": "execute_result"
    }
   ],
   "source": [
    "lgbm.predict([[6.559,\t73.8,\t0.083,\t0.051,\t0.119,2017,1,1,0, 0]])\n",
    "# ZONE3"
   ]
  },
  {
   "cell_type": "code",
   "execution_count": 77,
   "id": "5e06fed5-505a-41c2-a01d-cb498f89859f",
   "metadata": {},
   "outputs": [],
   "source": [
    "# used lasso regression initially as it is said to deal efficiently with hidh dimensional data\n",
    "# but it didnt give good r2 value tried to standardize it but it didnt acheive any increase in the r2 value also triend feature removal also\n",
    "# but it didnt fetch good results\n",
    "# then tried to use elastic net which is combination of lasso and ridge regression i guess was a bad choice as ridge regression involved as\n",
    "# ridge regression is used when there are more predictor variables than observations\n",
    "# then i started using random forest regressor from the ensemble because it involves bagging through which data is split and many algorithms are \n",
    "# used to make predictions and it combines all of these to attain the final result \n",
    "# it worked well with around 0.98.. r2 value(changed random state from 42 to 0 to get the same values every time)\n",
    "# then i shifted towards using ensemble learning\n",
    "# so i used boosting technique where a sequence of models each model checks and corrects the error of the previous model\n",
    "# so i used xgboost which gave r2 of 0.98\n",
    "# tried to increase the r2 values of lasso and elastic net because ensembles took a considerable amount of time to process  \n",
    "# but it was not progressive\n",
    "# so again tried to do things using ensemble methods\n",
    "# found lightgbm which took considerably less time\n",
    "\n",
    "# still not done with learning lightgbm"
   ]
  },
  {
   "cell_type": "code",
   "execution_count": 78,
   "id": "35db3e15-f589-4374-b34f-52b0caab42cf",
   "metadata": {},
   "outputs": [],
   "source": [
    "# learnings\n",
    "# regression models are more efficient with less number of datapoints\n",
    "# linear regression model is only useful when there is a variable and we predict another majority time its useless when involving many dimensions\n",
    "# ensemble techniques are useful when large data is involved"
   ]
  },
  {
   "cell_type": "code",
   "execution_count": 79,
   "id": "a40a3a72-7703-4058-b280-a259a87229df",
   "metadata": {},
   "outputs": [],
   "source": [
    "# to do\n",
    "# lightgbm multioutput way"
   ]
  }
 ],
 "metadata": {
  "kernelspec": {
   "display_name": "Python 3 (ipykernel)",
   "language": "python",
   "name": "python3"
  },
  "language_info": {
   "codemirror_mode": {
    "name": "ipython",
    "version": 3
   },
   "file_extension": ".py",
   "mimetype": "text/x-python",
   "name": "python",
   "nbconvert_exporter": "python",
   "pygments_lexer": "ipython3",
   "version": "3.12.4"
  }
 },
 "nbformat": 4,
 "nbformat_minor": 5
}
